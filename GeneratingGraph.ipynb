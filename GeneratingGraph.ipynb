{
 "cells": [
  {
   "cell_type": "markdown",
   "metadata": {},
   "source": [
    "Generating Word Frequency count and probability graph\n",
    "===============\n",
    "\n",
    "Distribution: sampled by scipy  \n",
    "Drawing: matplotlib  \n",
    "\n"
   ]
  },
  {
   "cell_type": "code",
   "execution_count": 142,
   "metadata": {
    "scrolled": true
   },
   "outputs": [
    {
     "name": "stdout",
     "output_type": "stream",
     "text": [
      "[nltk_data] Downloading package words to /root/nltk_data...\n",
      "[nltk_data]   Package words is already up-to-date!\n",
      "7\n",
      "Generated numWords:  987  length of Document:  3034\n",
      "0.25\n",
      "Word:  defoliate  count:  1\n",
      "Word:  unslagged  count:  4\n",
      "Word:  oxpecker  count:  8\n",
      "Word:  incoherent  count:  1\n",
      "Word:  vital  count:  4\n",
      "Word:  Monardella  count:  2\n",
      "Word:  steganographical  count:  4\n",
      "Word:  unflurried  count:  2\n",
      "Word:  caulocarpous  count:  1\n",
      "Word:  preactive  count:  4\n",
      "3034\n"
     ]
    }
   ],
   "source": [
    "%run evaluateBurstiness.py"
   ]
  },
  {
   "cell_type": "markdown",
   "metadata": {},
   "source": [
    "What is the burstiness graph plotting?  \n",
    "Appears to Zipfs Law"
   ]
  }
 ],
 "metadata": {
  "kernelspec": {
   "display_name": "Python 3",
   "language": "python",
   "name": "python3"
  },
  "language_info": {
   "codemirror_mode": {
    "name": "ipython",
    "version": 3
   },
   "file_extension": ".py",
   "mimetype": "text/x-python",
   "name": "python",
   "nbconvert_exporter": "python",
   "pygments_lexer": "ipython3",
   "version": "3.7.0"
  }
 },
 "nbformat": 4,
 "nbformat_minor": 2
}
